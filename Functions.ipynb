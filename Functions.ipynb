{
  "nbformat": 4,
  "nbformat_minor": 0,
  "metadata": {
    "colab": {
      "provenance": [],
      "include_colab_link": true
    },
    "kernelspec": {
      "name": "python3",
      "display_name": "Python 3"
    },
    "language_info": {
      "name": "python"
    }
  },
  "cells": [
    {
      "cell_type": "markdown",
      "metadata": {
        "id": "view-in-github",
        "colab_type": "text"
      },
      "source": [
        "<a href=\"https://colab.research.google.com/github/jinhaiba/assignments/blob/main/Functions.ipynb\" target=\"_parent\"><img src=\"https://colab.research.google.com/assets/colab-badge.svg\" alt=\"Open In Colab\"/></a>"
      ]
    },
    {
      "cell_type": "markdown",
      "source": [
        "# Functions in Python\n",
        "Functions are designed to perform the same task repeatedly. For the user, they operate like a black box, with no visibility into how the function is implemented. Users provide compatible arguments to the function, or in some cases, no arguments at all, and the function executes according to the programmer's implementation.\n",
        "\n",
        "## Objective\n",
        "- Understand how arguments are used in functions\n",
        "- Function variables visibility and global variables\n",
        "- Troubleshoot functions\n",
        "\n",
        "## Prerequisite\n",
        "\n",
        "- Lists & tuples\n",
        "- Decision and loops\n",
        "\n",
        "\n",
        "## What do you need to complete this exercise?\n",
        "\n",
        "You can perform this exercise in any Python IDE, including JupyterLab or Google Colab.\n"
      ],
      "metadata": {
        "id": "2ITy4ycVFXBq"
      }
    },
    {
      "cell_type": "markdown",
      "source": [
        "# Create a unit conversion program using functions\n",
        "1a. The user selects kilometers per liter (kpl), and the response will be provided in miles per gallon (mpg). The units must be interchangeable, so the program will ask the user whether to convert from kpl to mpg or vice versa.\n",
        "\n",
        "The program will prompt the user for input and deliver output with the appropriate units.\n",
        "\n",
        "Additionally, the program will include input validation. For example, it will not accept letter inputs and will provide an error message to the user when invalid input is detected.\n",
        "\n",
        "The function will also allow multiple arguments, enabling the user to convert multiple values at once.\n",
        "\n",
        "Research and find out the conversion factor between the units."
      ],
      "metadata": {
        "id": "uQxH0KO0tsDc"
      }
    },
    {
      "cell_type": "code",
      "source": [
        "def kpltompg(kpl):\n",
        "    conversion = 0.621371 / 0.264172\n",
        "    return kpl * conversion\n",
        "\n",
        "def mpgtokpl(mpg):\n",
        "    conversion = 0.264172 / 0.621371\n",
        "    return mpg * conversion\n",
        "\n",
        "def validation(value):\n",
        "    try:\n",
        "        value = float(value)\n",
        "        if value <= 0:\n",
        "            raise ValueError(\"The input must be a positive number.\")\n",
        "        return value\n",
        "    except ValueError as e:\n",
        "        print(f\"Invalid input: {e}\")\n",
        "        return None\n",
        "\n",
        "def converionfunction():\n",
        "    print(\"Select the conversion you want to perform:\")\n",
        "    print(\"1. kpl to mpg\")\n",
        "    print(\"2. mpg to kpl\")\n",
        "\n",
        "    while True:\n",
        "        try:\n",
        "            choice = int(input(\"Enter 1 or 2 to select conversion: \"))\n",
        "            if choice not in [1, 2]:\n",
        "                raise ValueError(\"Please enter 1 or 2.\")\n",
        "            break\n",
        "        except ValueError as e:\n",
        "            print(f\"Invalid selection: {e}\")\n",
        "\n",
        "    if choice == 1:\n",
        "        values = input(\"Enter the kpl: \").split()\n",
        "        results = []\n",
        "        for value in values:\n",
        "            valid_value = validation(value)\n",
        "            if valid_value is not None:\n",
        "                results.append(kpltompg(valid_value))\n",
        "\n",
        "        print(\"Converted values from kpl to mpg:\")\n",
        "        for result in results:\n",
        "            print(f\"{result:.2f} mpg\")\n",
        "\n",
        "    elif choice == 2:\n",
        "        values = input(\"Enter the mpg, separated by spaces: \").split()\n",
        "        results = []\n",
        "        for value in values:\n",
        "            valid_value = validation(value)\n",
        "            if valid_value is not None:\n",
        "                results.append(mpgtokpl(valid_value))\n",
        "\n",
        "        print(\"Converted values from mpg to kpl:\")\n",
        "        for result in results:\n",
        "            print(f\"{result:.2f} kpl\")\n",
        "\n",
        "converionfunction()"
      ],
      "metadata": {
        "id": "rRTflD1C9mjt",
        "outputId": "2ce5292b-a7bf-4177-b55f-4af6378af56b",
        "colab": {
          "base_uri": "https://localhost:8080/"
        }
      },
      "execution_count": 3,
      "outputs": [
        {
          "output_type": "stream",
          "name": "stdout",
          "text": [
            "Select the conversion you want to perform:\n",
            "1. kpl to mpg\n",
            "2. mpg to kpl\n",
            "Enter 1 or 2 to select conversion: 2\n",
            "Enter the mpg, separated by spaces: 15\n",
            "Converted values from mpg to kpl:\n",
            "6.38 kpl\n"
          ]
        }
      ]
    },
    {
      "cell_type": "markdown",
      "source": [
        "1b. How would you write a function that could take any number of unnamed arguments and print their values out in reverse order?\n"
      ],
      "metadata": {
        "id": "0jkTuRdlA6sk"
      }
    },
    {
      "cell_type": "markdown",
      "source": [
        "1c. What would be the result of changing a list or dictionary that was passed into a function as a parameter value? Which operations would be likely to create changes that would be visible outside the function? What steps might you take to minimize that risk?\n",
        "\n",
        "Explain the above statements with the help of code."
      ],
      "metadata": {
        "id": "sL7k6J70zdzH"
      }
    },
    {
      "cell_type": "code",
      "source": [
        "def reverse(*args):\n",
        "    for arg in reversed(args):\n",
        "        print(arg)\n",
        "\n",
        "reverse(1, 2, 3, 4, 5)\n",
        "\n",
        "\n",
        "def modifydict(my_dict):\n",
        "    my_dict['new_key'] = 'new_value'\n",
        "\n",
        "original = {'key1': 'value1', 'key2': 'value2'}\n",
        "modifydict(original)\n",
        "\n",
        "print(original)\n"
      ],
      "metadata": {
        "id": "8ZIVOfAMQt2Z",
        "outputId": "6464f951-43d5-474b-c19d-35fcfc75580b",
        "colab": {
          "base_uri": "https://localhost:8080/"
        }
      },
      "execution_count": 1,
      "outputs": [
        {
          "output_type": "stream",
          "name": "stdout",
          "text": [
            "5\n",
            "4\n",
            "3\n",
            "2\n",
            "1\n",
            "{'key1': 'value1', 'key2': 'value2', 'new_key': 'new_value'}\n"
          ]
        }
      ]
    },
    {
      "cell_type": "markdown",
      "source": [
        "1d. Assuming that ```x = 5```, what will be the value of ```x``` after ```funct_1()``` below executes? After ```funct_2()``` executes?\n"
      ],
      "metadata": {
        "id": "1wWF-wZx2h9s"
      }
    },
    {
      "cell_type": "code",
      "source": [
        "x = 5\n",
        "def funct_1():\n",
        "  x=3\n",
        "\n",
        "def funct_2():\n",
        "  global x\n",
        "  x=2"
      ],
      "metadata": {
        "id": "nvd-xB2v3AYh"
      },
      "execution_count": null,
      "outputs": []
    },
    {
      "cell_type": "markdown",
      "source": [
        "x still = 5 after funct_1, but after funct_2 it'll be 2 because of global x"
      ],
      "metadata": {
        "id": "BD9ntbkxT23f"
      }
    },
    {
      "cell_type": "markdown",
      "source": [
        "# 2. Troubleshooting"
      ],
      "metadata": {
        "id": "tJlIQIYjBPLX"
      }
    },
    {
      "cell_type": "markdown",
      "source": [
        "Correct the following code. There might be more than one correct answers. Explain your reasoning."
      ],
      "metadata": {
        "id": "V8HkUVFy6DlD"
      }
    },
    {
      "cell_type": "code",
      "source": [
        "def my_func(a, b, **c):\n",
        "    print(c)\n",
        "\n",
        "my_func(1, 2, x=3, y=4, z=5)"
      ],
      "metadata": {
        "id": "bJzMzbxIsAU9"
      },
      "execution_count": null,
      "outputs": []
    },
    {
      "cell_type": "markdown",
      "source": [
        "Using the following code, x should print 100 but it prints 10, why?"
      ],
      "metadata": {
        "id": "sYDRYXa9vbX4"
      }
    },
    {
      "cell_type": "code",
      "source": [
        "def my_func_global():\n",
        "  x = 100\n",
        "\n",
        "global x\n",
        "x = 10\n",
        "my_func_global()\n",
        "print(x)"
      ],
      "metadata": {
        "id": "w93b1OeVNYuf",
        "colab": {
          "base_uri": "https://localhost:8080/"
        },
        "outputId": "ca0b3182-38f4-4ae1-c163-f713ea7c765d"
      },
      "execution_count": null,
      "outputs": [
        {
          "output_type": "stream",
          "name": "stdout",
          "text": [
            "10\n"
          ]
        }
      ]
    },
    {
      "cell_type": "markdown",
      "source": [
        "global x needs to be inside the function, not after it. x = 100 is a local variable only inside the function, but the global x is outside of it making x = 10 the global value, so it takes priority over the x = 100 inside the function."
      ],
      "metadata": {
        "id": "sxucar2ZU8Gd"
      }
    },
    {
      "cell_type": "markdown",
      "source": [
        "## Challenges\n",
        "\n",
        "Please describe the challenges you faced during the exercise."
      ],
      "metadata": {
        "id": "xQzjxKdvvbyo"
      }
    },
    {
      "cell_type": "markdown",
      "source": [
        "The main challenge was properly setting up the validation, i'm not too good with doing value errors. i'm more familiar with just working with functions."
      ],
      "metadata": {
        "id": "qfJNpTB5EbY4"
      }
    }
  ]
}