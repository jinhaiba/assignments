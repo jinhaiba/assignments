{
  "nbformat": 4,
  "nbformat_minor": 0,
  "metadata": {
    "colab": {
      "provenance": [],
      "include_colab_link": true
    },
    "kernelspec": {
      "name": "python3",
      "display_name": "Python 3"
    },
    "language_info": {
      "name": "python"
    }
  },
  "cells": [
    {
      "cell_type": "markdown",
      "metadata": {
        "id": "view-in-github",
        "colab_type": "text"
      },
      "source": [
        "<a href=\"https://colab.research.google.com/github/jinhaiba/assignments/blob/main/Input.ipynb\" target=\"_parent\"><img src=\"https://colab.research.google.com/assets/colab-badge.svg\" alt=\"Open In Colab\"/></a>"
      ]
    },
    {
      "cell_type": "markdown",
      "source": [
        "# User input in Python\n",
        "\n",
        "## Objective\n",
        "1. Understand how ```input()``` function is applied.\n",
        "\n",
        "## Prerequisite\n",
        "\n",
        "- Python literals lecture & lab\n",
        "- Programming variables lecture\n",
        "\n",
        "## What do you need to complete this exercise?\n",
        "\n",
        "You can perform this exercise in any Python IDE, including JupyterLab or Google Colab.\n"
      ],
      "metadata": {
        "id": "2ITy4ycVFXBq"
      }
    },
    {
      "cell_type": "markdown",
      "source": [
        "### User input\n",
        "\n",
        "a. Write a program that prompts the user to enter the weight of a person in kilograms and outputs the equivalent weight in pounds. (Note that 1 kilogram = 2.2 pounds)."
      ],
      "metadata": {
        "id": "uQxH0KO0tsDc"
      }
    },
    {
      "cell_type": "code",
      "source": [
        "# Write your code here\n",
        "# Hint: Use int() or float() to convert the user input into an integer or float\n",
        "x = \"10\"\n",
        "print(type(x))\n",
        "x = int(x)\n",
        "print(type(x))\n",
        "\n",
        "\n",
        "kg = float(input(\"Enter weight in kilograms: \"))\n",
        "\n",
        "pounds = kg * 2.2\n",
        "\n",
        "print(pounds)"
      ],
      "metadata": {
        "colab": {
          "base_uri": "https://localhost:8080/"
        },
        "id": "N3wgQQ672rWR",
        "outputId": "0050be5d-f27a-4511-dfec-2f1cc6d54a2d"
      },
      "execution_count": 10,
      "outputs": [
        {
          "output_type": "stream",
          "name": "stdout",
          "text": [
            "<class 'str'>\n",
            "<class 'int'>\n",
            "Enter weight in kilograms: 1\n",
            "2.2\n"
          ]
        }
      ]
    },
    {
      "cell_type": "markdown",
      "source": [
        "b. Interest on a credit card's unpaid balance is calculated using the average daily balance. Suppose that $netBalance$ is the balance shown in the bill, $payment$ is the payment made, $d1$ is the number of days in the billing cycle, and $d2$ is the number of days payment is made before biling cycle. Then, the average daily balance is: $$averageDailybalance = (netBalance \\times d1 - payment \\times d2)/d1$$.\n",
        "\n",
        "If the interest rate per month is, say, 0.0152, then the interest on the unpaid balance is: $interest = averageDailyBalance \\times 0.0152$\n",
        "\n",
        "Write a program that accepts as input $netBalance$, $payment$, $d1$, $d2$, and $interest rate per month$. The program outputs the interest."
      ],
      "metadata": {
        "id": "2ou6B-5b2ws3"
      }
    },
    {
      "cell_type": "code",
      "source": [
        "netBalance = float(input(\"Enter net balance: \"))\n",
        "payment = float(input(\"Enter payment made: \"))\n",
        "d1 = int(input(\"Enter number of days in the billing cycle: \"))\n",
        "d2 = int(input(\"Enter number of days before billing cycle payment was made: \"))\n",
        "interestRatePerMonth = 0.0152\n",
        "\n",
        "averageDailyBalance = (netBalance * d1 - payment * d2) / d1\n",
        "\n",
        "interest = averageDailyBalance * interestRatePerMonth\n",
        "\n",
        "print(interest)"
      ],
      "metadata": {
        "id": "pqP70bD02x9h",
        "outputId": "7a3c7316-d32e-426f-8a6c-7973b3b8397e",
        "colab": {
          "base_uri": "https://localhost:8080/"
        }
      },
      "execution_count": 11,
      "outputs": [
        {
          "output_type": "stream",
          "name": "stdout",
          "text": [
            "Enter net balance: 1\n",
            "Enter payment made: 1\n",
            "Enter number of days in the billing cycle: 1\n",
            "Enter number of days before billing cycle payment was made: 1\n",
            "Enter interest rate per month: 1\n",
            "0.0\n"
          ]
        }
      ]
    },
    {
      "cell_type": "markdown",
      "source": [
        "c. Two cars A and B leave an intersection at the same time. Car A travels west at an average speed of x miles per hour and car B travels south at an average speed of y miles per hour. Write a program that prompts the user to enter the average speed of both the cars and the elapsed time (in hours and minutes) and outputs the (shortest) distance between the cars."
      ],
      "metadata": {
        "id": "gAxw_xVk25qO"
      }
    },
    {
      "cell_type": "code",
      "source": [
        "cA = float(input(\"Enter average speed of x miles per hour: \"))\n",
        "cB = float(input(\"Enter average speed of y miles per hour: \"))\n",
        "hours = int(input(\"Enter hours passed: \"))\n",
        "minutes = int(input(\"Enter minutes passed: \"))\n",
        "\n",
        "time = hours + minutes / 60\n",
        "\n",
        "distanceA = time * cA\n",
        "distanceB = time * cB\n",
        "\n",
        "shortestdistance = distanceA - distanceB\n",
        "\n",
        "print(shortestdistance)"
      ],
      "metadata": {
        "id": "nMPuZXsH26nW",
        "outputId": "45e21590-a9f0-4327-ab25-7ed5e1ec3b2e",
        "colab": {
          "base_uri": "https://localhost:8080/"
        }
      },
      "execution_count": 12,
      "outputs": [
        {
          "output_type": "stream",
          "name": "stdout",
          "text": [
            "Enter average speed of x miles per hour: 50\n",
            "Enter average speed of y miles per hour: 50\n",
            "Enter hours passed: 2\n",
            "Enter minutes passed: 30\n",
            "False\n"
          ]
        }
      ]
    },
    {
      "cell_type": "markdown",
      "source": [
        "### Troubleshooting\n",
        "\n",
        "Please troubleshoot the following issue **without using Python**, and explain your reasoning.\n",
        "\n",
        "a. ```hello = \"hello\"```  \n",
        "b. ```_var = 100```  \n",
        "c. ```!var_1 = 200```  \n",
        "d. ```print = \"print me\"```  \n",
        "e. ```False = 0```  "
      ],
      "metadata": {
        "id": "V0l5fqK-NJ2n"
      }
    },
    {
      "cell_type": "markdown",
      "source": [
        "no issue, no issue, issue because using ! in a variable, print can't be used a variable as it's already a function, false is already used in Python for booleans."
      ],
      "metadata": {
        "id": "Cz8CqobPNO8n"
      }
    },
    {
      "cell_type": "markdown",
      "source": [
        "## Challenges\n",
        "\n",
        "Please describe the challenges you faced during the exercise."
      ],
      "metadata": {
        "id": "xQzjxKdvvbyo"
      }
    },
    {
      "cell_type": "markdown",
      "source": [
        "Didn't know how to determine shortestdistance in the last problem."
      ],
      "metadata": {
        "id": "qfJNpTB5EbY4"
      }
    }
  ]
}